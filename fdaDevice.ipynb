{
 "cells": [
  {
   "cell_type": "markdown",
   "metadata": {},
   "source": [
    "# Code for interacting with API of openFDA"
   ]
  },
  {
   "cell_type": "markdown",
   "metadata": {},
   "source": [
    "## Plan\n",
    "In this project, we are looking for device adverse events. We are particularly interested in:\n",
    "    - Cause of failure\n",
    "    - Date of failure (ie age of device)\n",
    "We want to see which is the most common cause for given device to fail and at which stage of use this occurs.\n",
    "Relevant fields could be (for full reference see https://open.fda.gov/device/event/reference/):\n",
    "### Event\n",
    "device_date_of_manufacturer\n",
    "date_of_event, date_report, date_received\n",
    "previous_use_code, remedial_action\n",
    "single_use_flag\n",
    "### Source\n",
    "reprocessed_and_reused_flag\n",
    "### Device\n",
    "device.generic_name\n",
    "device.expiration_date_of_device, device.device_age_text\n",
    "device.implant_flag, device.date_removed_flag\n",
    "device.manufacturer_d_name, device.manufacturer_d_state, device.manufacturer_d_country\n",
    "### Patient\n",
    "patient.sequence_number_outcome, patient.sequence_number_treatment\n",
    "### Report Text\n",
    "mdr_text.text, mdr_text.text_type_code\n",
    "### Reporter Dependent Fields\n",
    "#### By user facility / importer\n",
    "report_date\n",
    "event_location\n",
    "manufacturer_name, manufacturer_country\n",
    "manufacturer_g1_name, manufacturer_g1_state\n",
    "### OpenFDA fields\n",
    "device_class\n",
    "### Further interesting fields:\n",
    "Source: reporter_occupation_code\n",
    "Device: device.device_operator"
   ]
  },
  {
   "cell_type": "code",
   "execution_count": 1,
   "metadata": {
    "collapsed": true
   },
   "outputs": [],
   "source": [
    "import numpy as np\n",
    "import pandas as pd\n",
    "import json\n",
    "import requests\n",
    "\n",
    "fileName = 'device-event-2016Q1-JSON~\\device-event-0001-of-0002.json'\n",
    "baseurl = 'https://api.fda.gov/device/event.json'"
   ]
  },
  {
   "cell_type": "code",
   "execution_count": 97,
   "metadata": {
    "collapsed": false
   },
   "outputs": [],
   "source": [
    "# Example of quering, for complete guide go to: https://open.fda.gov/api/\n",
    "q1 = dataurl + '?search=previous_use_code:\"R\"&limit=1'\n",
    "dq1 = requests.get(q1)\n",
    "# dq1.json()['results']\n",
    "data = json.loads(dq1.text)\n",
    "results = data['results']"
   ]
  },
  {
   "cell_type": "code",
   "execution_count": 98,
   "metadata": {
    "collapsed": false
   },
   "outputs": [],
   "source": [
    "# Fields of Interest\n",
    "fois_device = ['generic_name', 'expiration_date_of_device', 'device_age_text', 'implant_flag', 'date_removed_flag', \\\n",
    "               'manufacturer_d_name', 'manufacturer_d_state', 'manufacturer_d_country']\n",
    "fois_patient = ['sequence_number_outcome', 'sequence_number_treatment']\n",
    "fois_mdrText = ['text', 'text_type_code']\n",
    "fois_openfda = ['device_name', 'device_class', 'medical_specialty_description']\n",
    "# Currently works only for single item query! - extend to encopass more than limit=1\n",
    "device = data['results'][0]['device'][0]\n",
    "patient = data['results'][0]['patient'][0]\n",
    "mdrText = data['results'][0]['mdr_text'][0] # there may be more items in the list! \n",
    "openfda = data['results'][0]['device'][0]['openfda']"
   ]
  },
  {
   "cell_type": "code",
   "execution_count": 101,
   "metadata": {
    "collapsed": false
   },
   "outputs": [],
   "source": [
    "df_openfda = pd.DataFrame(openfda, index = range(len(results)),columns = fois_openfda)\n",
    "df_device = pd.DataFrame(device, index = range(len(results)),columns = fois_device)\n",
    "df_patient = pd.DataFrame(patient, index = range(len(results)),columns = fois_patient)\n",
    "df_mdrText = pd.DataFrame(mdrText, index = range(len(results)),columns = fois_mdrText)\n",
    "df = pd.concat([df_device, df_patient, df_mdrText, df_openfda], axis = 1)\n",
    "df"
   ]
  },
  {
   "cell_type": "code",
   "execution_count": 103,
   "metadata": {
    "collapsed": false
   },
   "outputs": [],
   "source": []
  }
 ],
 "metadata": {
  "kernelspec": {
   "display_name": "Python 3",
   "language": "python",
   "name": "python3"
  },
  "language_info": {
   "codemirror_mode": {
    "name": "ipython",
    "version": 3
   },
   "file_extension": ".py",
   "mimetype": "text/x-python",
   "name": "python",
   "nbconvert_exporter": "python",
   "pygments_lexer": "ipython3",
   "version": "3.5.2"
  }
 },
 "nbformat": 4,
 "nbformat_minor": 2
}
