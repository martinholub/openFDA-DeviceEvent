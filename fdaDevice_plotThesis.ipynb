{
 "cells": [
  {
   "cell_type": "code",
   "execution_count": 1,
   "metadata": {
    "collapsed": true
   },
   "outputs": [],
   "source": [
    "# Import modules\n",
    "import numpy as np\n",
    "import pandas as pd\n",
    "import json\n",
    "import requests\n",
    "\n",
    "import matplotlib.pyplot as plt"
   ]
  },
  {
   "cell_type": "code",
   "execution_count": 3,
   "metadata": {
    "collapsed": false
   },
   "outputs": [],
   "source": [
    "baseurl = 'https://api.fda.gov/device/event.json?'\n",
    "\n",
    "apikey = ''\n",
    "with open('apikey.txt', 'r') as myfile:\n",
    "    apikey = myfile.read().replace('\\n', '')\n",
    "    \n",
    "query = 'count=date_received'\n",
    "q = baseurl + 'api_key=' + apikey + '&' + query"
   ]
  },
  {
   "cell_type": "code",
   "execution_count": 5,
   "metadata": {
    "collapsed": false
   },
   "outputs": [],
   "source": [
    "dq = requests.get(q)\n",
    "# dq1.json()['results']\n",
    "data = json.loads(dq.text)['results']"
   ]
  },
  {
   "cell_type": "code",
   "execution_count": 56,
   "metadata": {
    "collapsed": false
   },
   "outputs": [],
   "source": [
    "df = pd.DataFrame(data)\n",
    "CS = np.cumsum(df['count'].values)\n",
    "df['cumsum'] = CS\n",
    "df['time'] =  pd.to_datetime(df['time'], format='%Y%m%d')\n",
    "\n",
    "df_agg = df.groupby(df['time'].map(lambda x: x.year)).agg({'cumsum': 'sum', 'count' : 'sum'})\n",
    "# df_agg.reset_index()"
   ]
  },
  {
   "cell_type": "code",
   "execution_count": 90,
   "metadata": {
    "collapsed": false
   },
   "outputs": [
    {
     "data": {
      "image/png": "[encoded data removed]",
      "text/plain": [
       "<matplotlib.figure.Figure at 0x4a533259b0>"
      ]
     },
     "metadata": {},
     "output_type": "display_data"
    }
   ],
   "source": [
    "#%matplotlib inline\n",
    "# df_agg.plot(x= df_agg.index, y = 'count', kind = 'line')\n",
    "fig, ax = plt.subplots(1,1,figsize=(6,4))\n",
    "ax.plot(df_agg.index, df_agg['count'], 'b')\n",
    "p1 = ax.stem(df_agg.index, df_agg['count'], linefmt='b-', markerfmt='bo', basefmt='w.', label = 'Yearly Count')\n",
    "ax.set_xlabel('Time')\n",
    "#ax.set_ylabel('Yearly Count')\n",
    "ax.set_label('Yearly Count')\n",
    "ax.legend(handles = [p1])\n",
    "plt.savefig('YearlyCount.pdf')"
   ]
  },
  {
   "cell_type": "markdown",
   "metadata": {},
   "source": [
    "## Similar but for device types"
   ]
  },
  {
   "cell_type": "code",
   "execution_count": 2,
   "metadata": {
    "collapsed": true
   },
   "outputs": [],
   "source": [
    "baseurl = 'https://api.fda.gov/device/event.json?'\n",
    "\n",
    "apikey = ''\n",
    "with open('apikey.txt', 'r') as myfile:\n",
    "    apikey = myfile.read().replace('\\n', '')\n",
    "    \n",
    "query = 'count=device_name'\n",
    "q = baseurl + 'api_key=' + apikey + '&' + query\n",
    "\n",
    "dq = requests.get(q)\n",
    "# dq1.json()['results']\n",
    "data = json.loads(dq.text)['results']"
   ]
  },
  {
   "cell_type": "code",
   "execution_count": 3,
   "metadata": {
    "collapsed": true
   },
   "outputs": [],
   "source": [
    "list_device_names = [\"pump\",\n",
    "                    \"sensor\",\n",
    "                    \"prosthesis\",\n",
    "                    \"defibrilator\",\n",
    "                    \"pacemaker\",\n",
    "                    \"catheter\",\n",
    "                    \"electrode\",\n",
    "                    #\"wearable\",\n",
    "                     \"stent\",\n",
    "                     \"ray\",\n",
    "                     \"ventilator\",\n",
    "                     \"bed\",\n",
    "                     \"implant\",\n",
    "                     \"lens\",\n",
    "                     #\"mds\" # https://www.cancer.org/cancer/myelodysplastic-syndrome/about/what-is-mds.html\n",
    "                     \"dialysis\",\n",
    "                     \"graft\",\n",
    "                    ]"
   ]
  },
  {
   "cell_type": "code",
   "execution_count": 21,
   "metadata": {
    "collapsed": false
   },
   "outputs": [
    {
     "data": {
      "text/html": [
       "<div>\n",
       "<table border=\"1\" class=\"dataframe\">\n",
       "  <thead>\n",
       "    <tr style=\"text-align: right;\">\n",
       "      <th></th>\n",
       "      <th>count</th>\n",
       "      <th>term</th>\n",
       "    </tr>\n",
       "  </thead>\n",
       "  <tbody>\n",
       "    <tr>\n",
       "      <th>0</th>\n",
       "      <td>1023660</td>\n",
       "      <td>pump</td>\n",
       "    </tr>\n",
       "    <tr>\n",
       "      <th>6</th>\n",
       "      <td>539941</td>\n",
       "      <td>sensor</td>\n",
       "    </tr>\n",
       "    <tr>\n",
       "      <th>10</th>\n",
       "      <td>415040</td>\n",
       "      <td>prosthesis</td>\n",
       "    </tr>\n",
       "    <tr>\n",
       "      <th>23</th>\n",
       "      <td>313532</td>\n",
       "      <td>pacemaker</td>\n",
       "    </tr>\n",
       "    <tr>\n",
       "      <th>38</th>\n",
       "      <td>184977</td>\n",
       "      <td>catheter</td>\n",
       "    </tr>\n",
       "    <tr>\n",
       "      <th>44</th>\n",
       "      <td>168649</td>\n",
       "      <td>electrode</td>\n",
       "    </tr>\n",
       "    <tr>\n",
       "      <th>61</th>\n",
       "      <td>123634</td>\n",
       "      <td>stent</td>\n",
       "    </tr>\n",
       "    <tr>\n",
       "      <th>67</th>\n",
       "      <td>111515</td>\n",
       "      <td>ray</td>\n",
       "    </tr>\n",
       "    <tr>\n",
       "      <th>79</th>\n",
       "      <td>90360</td>\n",
       "      <td>ventilator</td>\n",
       "    </tr>\n",
       "    <tr>\n",
       "      <th>81</th>\n",
       "      <td>85537</td>\n",
       "      <td>implant</td>\n",
       "    </tr>\n",
       "    <tr>\n",
       "      <th>82</th>\n",
       "      <td>85051</td>\n",
       "      <td>bed</td>\n",
       "    </tr>\n",
       "    <tr>\n",
       "      <th>88</th>\n",
       "      <td>75899</td>\n",
       "      <td>lens</td>\n",
       "    </tr>\n",
       "  </tbody>\n",
       "</table>\n",
       "</div>"
      ],
      "text/plain": [
       "      count        term\n",
       "0   1023660        pump\n",
       "6    539941      sensor\n",
       "10   415040  prosthesis\n",
       "23   313532   pacemaker\n",
       "38   184977    catheter\n",
       "44   168649   electrode\n",
       "61   123634       stent\n",
       "67   111515         ray\n",
       "79    90360  ventilator\n",
       "81    85537     implant\n",
       "82    85051         bed\n",
       "88    75899        lens"
      ]
     },
     "execution_count": 21,
     "metadata": {},
     "output_type": "execute_result"
    }
   ],
   "source": [
    "df = pd.DataFrame(data)\n",
    "df_filt = df.loc[df['term'].isin(list_device_names)]\n",
    "df_filt"
   ]
  },
  {
   "cell_type": "code",
   "execution_count": 19,
   "metadata": {
    "collapsed": false
   },
   "outputs": [
    {
     "data": {
      "image/png": "[encoded data removed]",
      "text/plain": [
       "<matplotlib.figure.Figure at 0xd546bc67f0>"
      ]
     },
     "metadata": {},
     "output_type": "display_data"
    }
   ],
   "source": [
    "# %matplotlib inline\n",
    "fig, ax = plt.subplots(1,1, figsize=(7,4))\n",
    "y_pos = np.arange(len(df_filt['term'].values))\n",
    "\n",
    "ax.barh(y_pos, df_filt['count'].values, align='center',\n",
    "        color='blue', label = 'Device class membership counts')\n",
    "\n",
    "ax.set_xlabel('Count')\n",
    "ax.set_yticks(y_pos)\n",
    "ax.set_yticklabels(df_filt['term'])\n",
    "ax.invert_yaxis()\n",
    "# ax.set_ylabel('Yearly Count')\n",
    "# ax.set_label('Device generic name')\n",
    "ax.legend()\n",
    "\n",
    "plt.savefig('name_count.pdf')"
   ]
  }
 ],
 "metadata": {
  "kernelspec": {
   "display_name": "Python 3",
   "language": "python",
   "name": "python3"
  },
  "language_info": {
   "codemirror_mode": {
    "name": "ipython",
    "version": 3
   },
   "file_extension": ".py",
   "mimetype": "text/x-python",
   "name": "python",
   "nbconvert_exporter": "python",
   "pygments_lexer": "ipython3",
   "version": "3.6.0"
  }
 },
 "nbformat": 4,
 "nbformat_minor": 2
}
